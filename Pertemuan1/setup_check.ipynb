{
 "cells": [
  {
   "cell_type": "code",
   "execution_count": null,
   "id": "705df23f",
   "metadata": {},
   "outputs": [],
   "source": [
    "import sys, numpy as np, pandas as pd, sklearn, skfuzzy, cv2\n",
    "print (\"python:\", sys.version)\n",
    "print (\"numpy:\", np.__version__)\n",
    "print (\"pandas:\", pd.__version__)\n",
    "print (\"sklearn:\", sklearn.__version__)\n",
    "print (\"skfuzzy:\", skfuzzy.__version__)\n",
    "print (\"opencv:\", cv2.__version__)"
   ]
  },
  {
   "cell_type": "code",
   "execution_count": null,
   "id": "d928743a",
   "metadata": {},
   "outputs": [],
   "source": []
  }
 ],
 "metadata": {
  "kernelspec": {
   "display_name": "ai_env",
   "language": "python",
   "name": "python3"
  },
  "language_info": {
   "codemirror_mode": {
    "name": "ipython",
    "version": 3
   },
   "file_extension": ".py",
   "mimetype": "text/x-python",
   "name": "python",
   "nbconvert_exporter": "python",
   "pygments_lexer": "ipython3",
   "version": "3.13.5"
  }
 },
 "nbformat": 4,
 "nbformat_minor": 5
}
